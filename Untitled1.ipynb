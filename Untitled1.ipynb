{
  "nbformat": 4,
  "nbformat_minor": 0,
  "metadata": {
    "colab": {
      "provenance": []
    },
    "kernelspec": {
      "name": "python3",
      "display_name": "Python 3"
    },
    "language_info": {
      "name": "python"
    }
  },
  "cells": [
    {
      "cell_type": "code",
      "execution_count": null,
      "metadata": {
        "id": "3dSoDRfgaI2o"
      },
      "outputs": [],
      "source": []
    },
    {
      "cell_type": "markdown",
      "source": [
        "  "
      ],
      "metadata": {
        "id": "igB-nrEoaoeA"
      }
    },
    {
      "cell_type": "code",
      "source": [
        "import pandas as pd\n",
        "import random\n",
        "\n",
        "lst = ['robot'] * 10\n",
        "lst += ['human'] * 10\n",
        "random.shuffle(lst)\n",
        "data = pd.DataFrame({'whoAmI': lst})\n",
        "print(data)\n"
      ],
      "metadata": {
        "colab": {
          "base_uri": "https://localhost:8080/"
        },
        "id": "16h_nZLha7sq",
        "outputId": "b8bc7ed5-403a-4ae7-be33-b33a6bfa4d75"
      },
      "execution_count": 1,
      "outputs": [
        {
          "output_type": "stream",
          "name": "stdout",
          "text": [
            "   whoAmI\n",
            "0   robot\n",
            "1   human\n",
            "2   robot\n",
            "3   human\n",
            "4   human\n",
            "5   robot\n",
            "6   robot\n",
            "7   human\n",
            "8   robot\n",
            "9   human\n",
            "10  robot\n",
            "11  human\n",
            "12  human\n",
            "13  human\n",
            "14  robot\n",
            "15  human\n",
            "16  robot\n",
            "17  robot\n",
            "18  human\n",
            "19  robot\n"
          ]
        }
      ]
    },
    {
      "cell_type": "code",
      "source": [
        "data['tmp'] = 1\n",
        "data.set_index([data.index, 'whoAmI'], inplace=True)\n",
        "data = data.unstack(level=-1, fill_value= 0).astype(int)\n",
        "data.columns = data.columns.droplevel()\n",
        "data.columns.name = None\n",
        "print(data)"
      ],
      "metadata": {
        "colab": {
          "base_uri": "https://localhost:8080/"
        },
        "id": "-0gzj_ZmbQZJ",
        "outputId": "ee57a340-ebcd-4649-ce8b-69597a21db4b"
      },
      "execution_count": 2,
      "outputs": [
        {
          "output_type": "stream",
          "name": "stdout",
          "text": [
            "    human  robot\n",
            "0       0      1\n",
            "1       1      0\n",
            "2       0      1\n",
            "3       1      0\n",
            "4       1      0\n",
            "5       0      1\n",
            "6       0      1\n",
            "7       1      0\n",
            "8       0      1\n",
            "9       1      0\n",
            "10      0      1\n",
            "11      1      0\n",
            "12      1      0\n",
            "13      1      0\n",
            "14      0      1\n",
            "15      1      0\n",
            "16      0      1\n",
            "17      0      1\n",
            "18      1      0\n",
            "19      0      1\n"
          ]
        }
      ]
    }
  ]
}